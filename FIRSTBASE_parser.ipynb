{
 "cells": [
  {
   "cell_type": "code",
   "execution_count": 1,
   "id": "a8faf0a5",
   "metadata": {},
   "outputs": [],
   "source": [
    "import requests\n",
    "import re\n",
    "from bs4 import BeautifulSoup"
   ]
  },
  {
   "cell_type": "code",
   "execution_count": 2,
   "id": "36675d80",
   "metadata": {},
   "outputs": [],
   "source": [
    "url = \"https://www.firstbase.io/\""
   ]
  },
  {
   "cell_type": "code",
   "execution_count": 3,
   "id": "a5480b17",
   "metadata": {},
   "outputs": [],
   "source": [
    "page = requests.get(url)\n",
    "html = page.content"
   ]
  },
  {
   "cell_type": "code",
   "execution_count": 4,
   "id": "b41f2136",
   "metadata": {},
   "outputs": [],
   "source": [
    "soup = BeautifulSoup(html)"
   ]
  },
  {
   "cell_type": "code",
   "execution_count": 5,
   "id": "2a9bf48c",
   "metadata": {},
   "outputs": [],
   "source": [
    "a = soup.find_all('a')\n",
    "links = []\n",
    "for link in a:\n",
    "    try:\n",
    "        links.append(link['href'])\n",
    "    except KeyError:\n",
    "        links.append(None)"
   ]
  },
  {
   "cell_type": "code",
   "execution_count": 6,
   "id": "f6aa8906",
   "metadata": {},
   "outputs": [],
   "source": [
    "a_s = list(map(lambda x: x.text,a))"
   ]
  },
  {
   "cell_type": "code",
   "execution_count": 7,
   "id": "e4bf4de8",
   "metadata": {},
   "outputs": [],
   "source": [
    "text_link = dict(zip(a_s, links))"
   ]
  },
  {
   "cell_type": "code",
   "execution_count": 8,
   "id": "aa3c757c",
   "metadata": {},
   "outputs": [
    {
     "data": {
      "text/plain": [
       "{'Register now ›': 'https://calendly.com/communityfirstbaseio/firstbase-live-qa',\n",
       " 'Sign up ›': 'https://calendly.com/d/xhdt-fsdv/firstbase-tax-consultation?month=2021-09',\n",
       " 'Privacy Policy': '/privacy-policy',\n",
       " 'Accept': '#',\n",
       " '': '/',\n",
       " 'Firstbase Start™Launch, grow, and manage your company': '/start',\n",
       " 'Firstbase Raise™Companies and investors connect to raise capital': '/raise',\n",
       " 'Firstbase Loop™1-click access to growth tools': '/loop',\n",
       " 'Firstbase Mailroom™Get a business address and mailbox': '/mailroom',\n",
       " 'Firstbase Agent™Automated legal compliance': '/agent',\n",
       " 'About UsLearn how we’re different': '/about',\n",
       " 'CareersJoin our growing team!': '/careers',\n",
       " 'Pricing': '/pricing',\n",
       " 'Rewards': '/rewards',\n",
       " 'Partners': '/partners',\n",
       " 'BlogFresh news, stories, and customer success': '/blog',\n",
       " \"Founder's GuideEverything you’d want to know and more\": '/guide',\n",
       " 'Help CenterHelpful questions and answers': 'https://help.firstbase.io/',\n",
       " 'LLC vs. C-CorporationFind out which is right for your business': 'https://onboarding.firstbase.io/start/type/help/llc-or-corp',\n",
       " 'Free Business Name CheckCheck if your business name is available instantly': '/business-name-check',\n",
       " 'Sign in': 'https://app.firstbase.io/auth/login',\n",
       " 'Start my business': 'https://onboarding.firstbase.io/start/',\n",
       " 'Already incorporated?': 'https://app.firstbase.io/auth/login',\n",
       " 'How it works': '/start',\n",
       " 'Learn more': '/every-firstbase-start',\n",
       " 'Explore Firstbase Loop™': '/loop',\n",
       " 'One application for all your needs.No more re-entering your company data again. We securely transfer all your required onboarding information to each selected partner.': None,\n",
       " 'Integrations and rewards built for growth.Grow your business with our partner integrations and get curated rewards, including cash incentives and credits.\\xa0\\xa0': None,\n",
       " 'Save time with automated onboarding.Apply for any service your business needs and get onboarded across all of our partners in just a few minutes.': None,\n",
       " 'See all rewards': '/rewards',\n",
       " 'How Mailroom™ works': '/mailroom',\n",
       " 'See pricing': '/pricing',\n",
       " 'How Agent™ works': '/agent',\n",
       " 'Register for Raise™ Beta launch': 'https://tv2yc0y40ik.typeform.com/to/QXkqVGNv',\n",
       " 'Read more success stories': '/blog',\n",
       " 'Firstbase Start™': '/start',\n",
       " 'Firstbase Raise™': '/raise',\n",
       " 'Firstbase Loop™': '/loop',\n",
       " 'Firstbase Mailroom™': '/mailroom',\n",
       " 'Firstbase Agent™': '/agent',\n",
       " 'Incorporation API': '/api',\n",
       " 'About Us': '/about',\n",
       " 'Careers': '/careers',\n",
       " 'Blog': '/blog',\n",
       " \"Founder's Guide\": '/guide',\n",
       " 'Free Business Name Check': '/business-name-check',\n",
       " 'Name Check Widget': '/business-name-check-partners',\n",
       " 'LLC vs. C-Corp': 'https://onboarding.firstbase.io/start/type/help/llc-or-corp',\n",
       " 'Help Center': 'https://help.firstbase.io/',\n",
       " 'Contact Us': 'https://help.firstbase.io/hc/en-us/requests/new',\n",
       " 'Search': 'https://www.firstbase.io/search',\n",
       " 'Terms of Use': '/terms',\n",
       " 'Twitter': 'https://twitter.com/tryfirstbase',\n",
       " 'LinkedIn': 'https://www.linkedin.com/company/firstbase-io',\n",
       " 'Instagram': 'https://www.instagram.com/firstbase.io/',\n",
       " 'YouTube': 'https://www.youtube.com/c/Firstbase'}"
      ]
     },
     "execution_count": 8,
     "metadata": {},
     "output_type": "execute_result"
    }
   ],
   "source": [
    "text_link"
   ]
  },
  {
   "cell_type": "code",
   "execution_count": 9,
   "id": "9626032c",
   "metadata": {},
   "outputs": [],
   "source": [
    "p_s = list(map(lambda x: x.text,soup.find_all('p')))"
   ]
  },
  {
   "cell_type": "code",
   "execution_count": 10,
   "id": "188cc9e3",
   "metadata": {},
   "outputs": [
    {
     "name": "stdout",
     "output_type": "stream",
     "text": [
      "By using this website, you agree to the storing of cookies on your device to enhance site navigation, analyze site usage, and assist in our marketing efforts. View our Privacy Policy for more information. \n",
      "\n",
      "The simplest way for anyone to launch and run a US business. Incorporate your company, access one-click growth tools, stay compliant, and manage everything your business needs — all online, from anywhere. \n",
      "\n",
      "No paperwork or legal headaches. Our online platform automates the entire company formation process with compliance and 24/7 global customer support.  \n",
      "\n",
      "Choose an LLC or Corporation and the registration state for your business. We'll guide you through which is best for your business if you don't know. \n",
      "\n",
      "Don't wait on the IRS. We'll give you a bank account faster without needing an EIN. We're also authorized by the Internal Revenue Service (IRS) to offer expedited EIN services if needed. \n",
      "\n",
      "Our integration with Carta allows you to create a cap table just one click after incorporation. We will prepare your legal documents, file your paperwork, and create all the essential post-incorporation documents. \n",
      "\n",
      "Apply for banking, payment processing, payroll, accounting, and more, in one click with Firstbase Loop™. \n",
      "\n",
      "$200,000+ in exclusive deals and rewards. Plus, free tax & legal consultations, webinars, and resources to help your business grow. \n",
      "\n",
      "\"Excited to be a part of Firstbase’s journey as they democratize access to starting companies by making it accessible to everyone.\" \n",
      "\n",
      "\"Deciding to launch your own startup is hard enough. Firstbase takes what is often a big headache of incorporation for founders and simplifies the process into an efficient, personalized one stop shop.\" \n",
      "\n",
      "\"We’re thrilled to support Firstbase’s mission and believe they will have a massive impact on new businesses being started around the world.” \n",
      "\n",
      "\"Firstbase is tackling a big problem involving multiple government bureaucracies and this kind of relentless focus on the details is the only way to make launching a business truly seamless.\" \n",
      "\n",
      "Get a professional business address and virtual mailbox to instantly manage all your mailing needs - online, from any device.  \n",
      "\n",
      "Never miss a deadline with our nationwide Registered Agent service and dashboard that automates compliance reminders, notices, annual filings, and more. \n",
      "\n",
      "Firstbase Raise™ will launch to a limited group of pre-registered founders. 500 founders will be able to join our beta on a first come, first serve basis. \n",
      "\n",
      "I used @tryfirstbase for my biz. Went super-smooth. Highly recommend it. \n",
      "\n",
      "Thank you for getting the company set up super fast. I think it happened efficiently. The team is there to email if you have questions too. The dashboard accurately displays what is completed and what to expect. \n",
      "\n",
      "Incredible Service. This was a fast, easy, hassle-free experience, I won't say it matched my expectations, NO, It exceeded my expectations and amazed me. They're the best of the best. So happy that I chose Firstbase and confident I'll make another round for another venture. \n",
      "\n",
      "Wow, @tryfirstbase is really fantastic. Set up the corp, EIN, registered agent, bank account through/via them and 1.5 months later I'm way more organized than I ever was. \n",
      "\n",
      "Quick and simple LLC formation. Was done in a few days with minimal paperwork. \n",
      "\n",
      "Great service! The process is extremely easy! \n",
      "\n",
      "I hope Firstbase will review this. I am very much satisfied with the service. I had some issues earlier with my application but they resolved them within a day. :D I would recommend their service and appreciate their hard work to make this world a better place for business. :D Cheers. \n",
      "\n",
      "Create a C Corp in US through @tryfirstbase, I did the same and there are enough partners to help you through the fin and legal side of things. \n",
      "\n",
      "Easy to found a startup business via Firstbase. Smooth communication. \n",
      "\n",
      "Starting a company should be a celebration, not a nightmare. \n",
      "\n",
      "Our flat and transparent pricing includes everything your business needs.‍ \n",
      "\n",
      "Get helpful, real human answers from our dedicated support teams wherever you are.‍ \n",
      "\n",
      "If you’re not satisfied for any reason, you’ll get a full refund, minus state and third-party fees, within 60 days of purchase. \n",
      "\n",
      "We’ve helped thousands of companies launch and grow in the US. Their stories continue to inspire us to help push the startup economy forward. \n",
      "\n",
      "Start, grow, and manage your business. We're with you each step of the way.  \n",
      "\n"
     ]
    }
   ],
   "source": [
    "for p in p_s:\n",
    "    print(p, '\\n')"
   ]
  },
  {
   "cell_type": "code",
   "execution_count": 11,
   "id": "d74c0c8e",
   "metadata": {},
   "outputs": [],
   "source": [
    "images = []\n",
    "for i in soup.find_all('img'):\n",
    "    try:\n",
    "        images.append((i['alt'],i['src']))\n",
    "    except KeyError:\n",
    "        images.append(None)\n",
    "images = dict(images)"
   ]
  },
  {
   "cell_type": "code",
   "execution_count": 12,
   "id": "a4cc2f47",
   "metadata": {},
   "outputs": [
    {
     "data": {
      "text/plain": [
       "{'Firstbase': 'https://assets.website-files.com/609486d2fafa37698a57db5b/609bf4ae6380ac34e545f653_firstbase-logo.svg',\n",
       " 'FAQ Arrow': 'https://assets.website-files.com/609486d2fafa37698a57db5b/620a5eb56e7b240e787a031c_chevron-down.svg',\n",
       " 'Trustpilot logo': 'https://assets.website-files.com/609486d2fafa37698a57db5b/6245d4e6e57ef2324676f0b2_Trustpilot_brandmark_gr-wht_RGB.svg',\n",
       " 'Star': 'https://assets.website-files.com/609486d2fafa37698a57db5b/628ffb2fdb03af3cfef3484f_star.svg',\n",
       " 'Half-star image.': 'https://assets.website-files.com/609486d2fafa37698a57db5b/632e01557e5391e93d5576eb_half-star.svg',\n",
       " 'Gradient Background': 'https://assets.website-files.com/609486d2fafa37698a57db5b/628fae44abcea7da79ecdde2_home-startbg.svg',\n",
       " 'Amazon Web Services': 'https://assets.website-files.com/609486d2fafa37698a57db5b/616f5709ad345820193dbb95_firstbase--aws.svg',\n",
       " 'Zendesk': 'https://assets.website-files.com/609486d2fafa37698a57db5b/60ef1dc358ea803683dc0ba5_zendesk.svg',\n",
       " 'Notion': 'https://assets.website-files.com/609486d2fafa37698a57db5b/616080dcf2dfc742f18ff7e0_firstbase-notion.svg',\n",
       " 'Intercom': 'https://assets.website-files.com/609486d2fafa37698a57db5b/62aa656d84d62efb429c5317_intercom.svg',\n",
       " 'Gusto': 'https://assets.website-files.com/609486d2fafa37698a57db5b/60ef1fb4b26864b8cb335d53_gusto.svg',\n",
       " 'Formation - Image': 'https://assets.website-files.com/609486d2fafa37698a57db5b/628fb67d6a5287cedb45d54c_inccccc.svg',\n",
       " 'Arrow': 'https://assets.website-files.com/609486d2fafa37698a57db5b/6245dc16157649d791c83d66_arrow-right.svg',\n",
       " 'Tax ID Number (EIN) - Image': 'https://assets.website-files.com/609486d2fafa37698a57db5b/629644bddcd05c1f604af666_ein.svg',\n",
       " 'Cap table management.': 'https://assets.website-files.com/609486d2fafa37698a57db5b/632e448712d3d9c15b713475_Cap-tables-that-work-for-you.png',\n",
       " 'Brex': 'https://assets.website-files.com/609486d2fafa37698a57db5b/6109c1e329b5b65c069aa01d_firstbase-brex.svg',\n",
       " 'Mercury': 'https://assets.website-files.com/609486d2fafa37698a57db5b/6109c2ac918aa5760e197499_firstbase-mercury.svg',\n",
       " 'Deel': 'https://assets.website-files.com/609486d2fafa37698a57db5b/620e4a1b055da62df08144f0_deel.svg',\n",
       " 'Bench logo': 'https://assets.website-files.com/609486d2fafa37698a57db5b/627c317f1aeb30175454f15a_firstbase-bench.svg',\n",
       " 'Carta Logo': 'https://assets.website-files.com/609486d2fafa37698a57db5b/63114939e2519fd73295fb87_CartaLogo_White.svg',\n",
       " 'Every.io': 'https://assets.website-files.com/609486d2fafa37698a57db5b/62f11b1b9955ec7c264236e3_every.svg',\n",
       " 'One application for all your needs.': 'https://assets.website-files.com/609486d2fafa37698a57db5b/629642955eba6a2df1c0b236_CleanShot%202022-05-31%20at%2009.29.49%402x.png',\n",
       " 'Integrations and rewards built for growth.': 'https://assets.website-files.com/609486d2fafa37698a57db5b/6296430be5c07c5cc99ffbc7_CleanShot%202022-05-31%20at%2009.31.21%402x.png',\n",
       " 'Save time with automated onboarding.': 'https://assets.website-files.com/609486d2fafa37698a57db5b/6296436c9f14ed59493c3db4_CleanShot%202022-05-31%20at%2009.33.17%402x.png',\n",
       " 'Ampla logo': 'https://assets.website-files.com/609486d2fafa37698a57db5b/628fea4ec7827385875f15b8_ampla.svg',\n",
       " 'Salesforce': 'https://assets.website-files.com/609486d2fafa37698a57db5b/60ef1d5d4f5e1ab238c517de_salesforce.svg',\n",
       " 'Baremetrics': 'https://assets.website-files.com/609486d2fafa37698a57db5b/60ef1d7b335273b621dcca79_baremetrics.svg',\n",
       " 'Card': 'https://assets.website-files.com/609486d2fafa37698a57db5b/60ef1d8afa6b5bfa9ef73fc3_carrd.svg',\n",
       " 'Lattice': 'https://assets.website-files.com/609486d2fafa37698a57db5b/60ef1d9fa602495a32bf4d61_lattice.svg',\n",
       " 'Wise': 'https://assets.website-files.com/609486d2fafa37698a57db5b/60ecb82f46baf8f3ae679b2b_wise.svg',\n",
       " 'Shopision': 'https://assets.website-files.com/609486d2fafa37698a57db5b/60ef1db4d0182043f662ec5f_shopision.svg',\n",
       " 'Airtable': 'https://assets.website-files.com/609486d2fafa37698a57db5b/60ef1dce494a0580c8079aab_airtable.svg',\n",
       " 'Notion logo': 'https://assets.website-files.com/609486d2fafa37698a57db5b/628fea68da6688641a59340d_notion.svg',\n",
       " 'Sonetel': 'https://assets.website-files.com/609486d2fafa37698a57db5b/60ef1df55f4447964a7098b7_sonetel.svg',\n",
       " 'FreshBooks logo': 'https://assets.website-files.com/609486d2fafa37698a57db5b/628feb5714ca977f7bb9e117_freshbooks.svg',\n",
       " 'Bookmate': 'https://assets.website-files.com/609486d2fafa37698a57db5b/616069f215b5d5d85f538511_firstbase-bookmate.svg',\n",
       " 'Wix logo': 'https://assets.website-files.com/609486d2fafa37698a57db5b/628fe906f8f5c672f7f336ba_wix.svg',\n",
       " 'Square logo': 'https://assets.website-files.com/609486d2fafa37698a57db5b/628fe9b7345e6d3df12dff48_square.svg',\n",
       " 'AudioGO': 'https://assets.website-files.com/609486d2fafa37698a57db5b/60ef1f016cb818d50a894260_audiogo.svg',\n",
       " 'Aircall': 'https://assets.website-files.com/609486d2fafa37698a57db5b/60ef1f246ca6ab5bcde8885b_aircall.svg',\n",
       " 'Pilot': 'https://assets.website-files.com/609486d2fafa37698a57db5b/60ef1f16d5243ce49c1fc8d9_pilot.svg',\n",
       " 'Carta logo': 'https://assets.website-files.com/609486d2fafa37698a57db5b/6311506c553f419300d66b64_carta.svg',\n",
       " 'OpenPhone': 'https://assets.website-files.com/609486d2fafa37698a57db5b/60ef1f4f6cb8184c7c8944d9_openphone.svg',\n",
       " 'Amazon Web Services (AWS)': 'https://assets.website-files.com/609486d2fafa37698a57db5b/60ef1f64fa6b5b21f2f74e3c_aws.svg',\n",
       " 'Calendly logo': 'https://assets.website-files.com/609486d2fafa37698a57db5b/628fea34af254384984b6fc4_calendly.svg',\n",
       " 'Justworks': 'https://assets.website-files.com/609486d2fafa37698a57db5b/60ef1fc2493f8001eb9cd79f_justworks.svg',\n",
       " 'Divvy': 'https://assets.website-files.com/609486d2fafa37698a57db5b/60ef1fa00eae6c1db52e2a67_divvy.svg',\n",
       " 'Electric logo': 'https://assets.website-files.com/609486d2fafa37698a57db5b/628febd79e3f20291c0b5603_electric.svg',\n",
       " 'Demand Curve logo': 'https://assets.website-files.com/609486d2fafa37698a57db5b/628fec0dc8afed5c1fb2bebd_demandcurve.svg',\n",
       " 'Carta': 'https://assets.website-files.com/609486d2fafa37698a57db5b/60ef1f354f5e1a1d5cc52509_carta.svg',\n",
       " 'Zyro': 'https://assets.website-files.com/609486d2fafa37698a57db5b/60ef1f8da27cf85ea7b5d7ea_zyro.svg',\n",
       " 'Makerpad': 'https://assets.website-files.com/609486d2fafa37698a57db5b/60ef1fdb98e9e62123bc8884_makerpad.svg',\n",
       " 'Userlist': 'https://assets.website-files.com/609486d2fafa37698a57db5b/61606a726022fe610a69cb1d_firstbase-userlist.svg',\n",
       " 'Bench': 'https://assets.website-files.com/609486d2fafa37698a57db5b/60ef1e045ca64a23c776c570_bench.svg',\n",
       " 'Freshworks': 'https://assets.website-files.com/609486d2fafa37698a57db5b/6160697bfbf2de3f62c0b292_firstbase-freshworks.svg',\n",
       " 'Logo of Payoneer.': 'https://assets.website-files.com/609486d2fafa37698a57db5b/611458e2d7eb6b39873621cc_payoneer.svg',\n",
       " 'TechCrunch': 'https://assets.website-files.com/609486d2fafa37698a57db5b/60ef20f94f5e1a54cac52bb6_techcrunch.svg',\n",
       " 'Remote logo': 'https://assets.website-files.com/609486d2fafa37698a57db5b/628fe9eb2b058d64ab9e3c5e_remote.svg',\n",
       " 'Logo of Sprout Social.': 'https://assets.website-files.com/609486d2fafa37698a57db5b/612002fbc8b80c2f8550fe1a_sproutsocial.svg',\n",
       " 'Webflow': 'https://assets.website-files.com/609486d2fafa37698a57db5b/616069a09f7ac3859e8fb569_firstbase-webflow.svg',\n",
       " 'Logo of Wing.': 'https://assets.website-files.com/609486d2fafa37698a57db5b/6120032367890b7be576af43_wing.svg',\n",
       " 'Logo of Omnipresent.': 'https://assets.website-files.com/609486d2fafa37698a57db5b/6120032dbaefcf07bb131d90_omnipresent.svg',\n",
       " 'Panther': 'https://assets.website-files.com/609486d2fafa37698a57db5b/61606a8f869f0abd072f347b_firstbase-panther.svg',\n",
       " 'Tailor Brands': 'https://assets.website-files.com/609486d2fafa37698a57db5b/61606aa7138cb85caeb6c753_firstbase-tailor-brands.svg',\n",
       " 'Henry Ward, CEO of Carta.': 'https://assets.website-files.com/609486d2fafa37698a57db5b/620aa33eb9a5ab4dd454e4d6_henry-ward.jpg',\n",
       " 'Statuspage logo': 'https://assets.website-files.com/609486d2fafa37698a57db5b/622a1d6a14193828db36291f_firstbase-statuspage.svg',\n",
       " 'Danny Olinsky - Co-founder at StatusPage': 'https://assets.website-files.com/609486d2fafa37698a57db5b/60d4b291dd72bbd0060627f6_firstbase-dannyolinsky.jpg',\n",
       " 'Y Combinator logo': 'https://assets.website-files.com/609486d2fafa37698a57db5b/62327db150cb3a853452cc87_firstbase-yc.svg',\n",
       " 'Jared Friedman - Partner at Y Combinator': 'https://assets.website-files.com/609486d2fafa37698a57db5b/60ede2383f0c8b2662d6b660_firstbase-jared.jpg',\n",
       " 'Logo of Calm Company Fund.': 'https://assets.website-files.com/609486d2fafa37698a57db5b/6109a0f94432c8ea6a50a72b_firstbase-calmfund.svg',\n",
       " 'Tyler Tringas - General Partner at Earnest Capital': 'https://assets.website-files.com/609486d2fafa37698a57db5b/60eda4dcad74a0b2ee300e9d_firstbase-tyler.jpg',\n",
       " 'Checkmark': 'https://assets.website-files.com/609486d2fafa37698a57db5b/6230f6e7bd81ed1fa14a3ca6_check-circle.svg',\n",
       " 'Firstbase Mailroom™': 'https://assets.website-files.com/609486d2fafa37698a57db5b/6298299dc142614b15c9a84e_mailroom-img%20(1).png',\n",
       " 'Firstbase Agent™': 'https://assets.website-files.com/609486d2fafa37698a57db5b/629827546cef920dbb7132b2_agent-img%20(1).png',\n",
       " 'Arvid Kahl': 'https://assets.website-files.com/6094875660e7caf817a85eb9/624525207c15d970b12626c6_QPimCC9z_400x400.jpeg',\n",
       " 'Twitter logo': 'https://assets.website-files.com/609486d2fafa37698a57db5b/6245d448b061e5d23f740548_twbird.svg',\n",
       " 'Trustpilot stars': 'https://assets.website-files.com/609486d2fafa37698a57db5b/6245d540f25c5531b6554820_Trustpilot_ratings_5star-RGB.svg',\n",
       " 'Alex Morgan': '',\n",
       " 'Darwish': '',\n",
       " 'Helen Tran': 'https://assets.website-files.com/6094875660e7caf817a85eb9/624525793133bffbd1d08644_8Z6HkWi1_400x400.jpeg',\n",
       " 'Ian Hyzy': '',\n",
       " 'Camilo Rios': '',\n",
       " 'Tarun Juneja': '',\n",
       " 'Veer Manhas': 'https://assets.website-files.com/6094875660e7caf817a85eb9/62452695c60ed945cd8cf011_pd-JKNah_400x400.jpeg',\n",
       " 'Andrea': '',\n",
       " 'Transparent Pricing': 'https://assets.website-files.com/609486d2fafa37698a57db5b/62bf83e51f54cb2f08dbc0c5_Transparent%20Pricing.svg',\n",
       " '24/7 Customer Support': 'https://assets.website-files.com/609486d2fafa37698a57db5b/62bf83bdbffb8659b9f941bc_Customer%20Support.svg',\n",
       " '60-Day Money Back Guarantee': 'https://assets.website-files.com/609486d2fafa37698a57db5b/62bf83f905eab341c00641ed_Money%20Back%20Guarantee.svg',\n",
       " 'Outfund logo': 'https://assets.website-files.com/609486d2fafa37698a57db5b/624ddd5c06f2ba4397122736_firstbase-outfund.svg',\n",
       " 'Bloom logo': 'https://assets.website-files.com/609486d2fafa37698a57db5b/62868a39eba3c34bb7e0475a_bloom.svg',\n",
       " 'Sendchamp logo': 'https://assets.website-files.com/609486d2fafa37698a57db5b/62952d6b49d516d17143b4b8_sendchamp.svg',\n",
       " 'Zilla Finance': 'https://assets.website-files.com/609486d2fafa37698a57db5b/62bf81d1622dd08ac874fb99_Zilla_Updated_l9yevg.png',\n",
       " 'Logo of Inai.': 'https://assets.website-files.com/609486d2fafa37698a57db5b/61e6f2e8b47ae85bda934005_firstbase-inai.svg',\n",
       " 'Venturerock logo': 'https://assets.website-files.com/609486d2fafa37698a57db5b/624dddcb207d4f530ffa4f96_firstbase-venturerock.png',\n",
       " 'Courtly logo': 'https://assets.website-files.com/609486d2fafa37698a57db5b/62868e54f9d9311123ae7ba6_courtly.svg',\n",
       " 'Carryt': 'https://assets.website-files.com/609486d2fafa37698a57db5b/620aa9643cf848ffccff0b98_carryt.svg',\n",
       " 'Workweek logo': 'https://assets.website-files.com/609486d2fafa37698a57db5b/62868ec9b4acc31b8ff3a676_workweek.svg',\n",
       " 'Misfans logo': 'https://assets.website-files.com/609486d2fafa37698a57db5b/62868f21414b2caf50a0f737_misfans.svg'}"
      ]
     },
     "execution_count": 12,
     "metadata": {},
     "output_type": "execute_result"
    }
   ],
   "source": [
    "images"
   ]
  },
  {
   "cell_type": "code",
   "execution_count": null,
   "id": "9026e665",
   "metadata": {},
   "outputs": [],
   "source": []
  }
 ],
 "metadata": {
  "kernelspec": {
   "display_name": "Python 3 (ipykernel)",
   "language": "python",
   "name": "python3"
  },
  "language_info": {
   "codemirror_mode": {
    "name": "ipython",
    "version": 3
   },
   "file_extension": ".py",
   "mimetype": "text/x-python",
   "name": "python",
   "nbconvert_exporter": "python",
   "pygments_lexer": "ipython3",
   "version": "3.9.12"
  }
 },
 "nbformat": 4,
 "nbformat_minor": 5
}
