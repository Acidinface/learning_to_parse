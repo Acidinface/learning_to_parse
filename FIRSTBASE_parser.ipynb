{
 "cells": [
  {
   "cell_type": "code",
   "execution_count": 25,
   "id": "f85b9439",
   "metadata": {},
   "outputs": [],
   "source": [
    "import requests\n",
    "import re\n",
    "from bs4 import BeautifulSoup"
   ]
  },
  {
   "cell_type": "code",
   "execution_count": 2,
   "id": "9ac8a956",
   "metadata": {},
   "outputs": [],
   "source": [
    "url = \"https://www.firstbase.io/\""
   ]
  },
  {
   "cell_type": "code",
   "execution_count": 5,
   "id": "0e6d99f9",
   "metadata": {},
   "outputs": [],
   "source": [
    "page = requests.get(url)\n",
    "html = page.content"
   ]
  },
  {
   "cell_type": "code",
   "execution_count": 6,
   "id": "971f4b41",
   "metadata": {},
   "outputs": [],
   "source": [
    "soup = BeautifulSoup(html)"
   ]
  },
  {
   "cell_type": "code",
   "execution_count": 56,
   "id": "6590a7d8",
   "metadata": {},
   "outputs": [],
   "source": [
    "a = soup.find_all('a')\n",
    "links = []\n",
    "for link in a:\n",
    "    try:\n",
    "        links.append(link['href'])\n",
    "    except KeyError:\n",
    "        links.append(None)"
   ]
  },
  {
   "cell_type": "code",
   "execution_count": 66,
   "id": "996ffaff",
   "metadata": {},
   "outputs": [
    {
     "data": {
      "text/plain": [
       "['Register now ›',\n",
       " 'Sign up ›',\n",
       " 'Sign up ›',\n",
       " 'Privacy Policy',\n",
       " 'Accept',\n",
       " '',\n",
       " 'Firstbase Start™Launch, grow, and manage your company',\n",
       " 'Firstbase Raise™Companies and investors connect to raise capital',\n",
       " 'Firstbase Loop™1-click access to growth tools',\n",
       " 'Firstbase Mailroom™Get a business address and mailbox',\n",
       " 'Firstbase Agent™Automated legal compliance',\n",
       " 'About UsLearn how we’re different',\n",
       " 'CareersJoin our growing team!',\n",
       " 'Pricing',\n",
       " 'Rewards',\n",
       " 'Partners',\n",
       " 'BlogFresh news, stories, and customer success',\n",
       " \"Founder's GuideEverything you’d want to know and more\",\n",
       " 'Help CenterHelpful questions and answers',\n",
       " 'LLC vs. C-CorporationFind out which is right for your business',\n",
       " 'Free Business Name CheckCheck if your business name is available instantly',\n",
       " 'Sign in',\n",
       " 'Start my business',\n",
       " 'Start my business',\n",
       " 'Already incorporated?',\n",
       " 'How it works',\n",
       " 'Learn more',\n",
       " 'Explore Firstbase Loop™',\n",
       " 'One application for all your needs.No more re-entering your company data again. We securely transfer all your required onboarding information to each selected partner.',\n",
       " 'Integrations and rewards built for growth.Grow your business with our partner integrations and get curated rewards, including cash incentives and credits.\\xa0\\xa0',\n",
       " 'Save time with automated onboarding.Apply for any service your business needs and get onboarded across all of our partners in just a few minutes.',\n",
       " 'See all rewards',\n",
       " 'How Mailroom™ works',\n",
       " 'See pricing',\n",
       " 'How Agent™ works',\n",
       " 'See pricing',\n",
       " 'Register for Raise™ Beta launch',\n",
       " '',\n",
       " '',\n",
       " '',\n",
       " '',\n",
       " '',\n",
       " '',\n",
       " 'Read more success stories',\n",
       " 'Start my business',\n",
       " 'Already incorporated?',\n",
       " '',\n",
       " 'Firstbase Start™',\n",
       " 'Firstbase Raise™',\n",
       " 'Firstbase Loop™',\n",
       " 'Firstbase Mailroom™',\n",
       " 'Firstbase Agent™',\n",
       " 'Incorporation API',\n",
       " 'Pricing',\n",
       " 'Rewards',\n",
       " 'About Us',\n",
       " 'Careers',\n",
       " 'Blog',\n",
       " \"Founder's Guide\",\n",
       " 'Free Business Name Check',\n",
       " 'Name Check Widget',\n",
       " 'LLC vs. C-Corp',\n",
       " 'Help Center',\n",
       " 'Contact Us',\n",
       " 'Search',\n",
       " 'Terms of Use',\n",
       " 'Privacy Policy',\n",
       " 'Twitter',\n",
       " 'LinkedIn',\n",
       " 'Instagram',\n",
       " 'YouTube']"
      ]
     },
     "execution_count": 66,
     "metadata": {},
     "output_type": "execute_result"
    }
   ],
   "source": [
    "a_s = list(map(lambda x: x.text,a))"
   ]
  },
  {
   "cell_type": "code",
   "execution_count": 73,
   "id": "63d1c75a",
   "metadata": {},
   "outputs": [],
   "source": [
    "text_link = dict(zip(a_s, links))"
   ]
  },
  {
   "cell_type": "code",
   "execution_count": 74,
   "id": "022ee969",
   "metadata": {},
   "outputs": [
    {
     "data": {
      "text/plain": [
       "{'Register now ›': 'https://calendly.com/communityfirstbaseio/firstbase-live-qa',\n",
       " 'Sign up ›': 'https://calendly.com/d/xhdt-fsdv/firstbase-tax-consultation?month=2021-09',\n",
       " 'Privacy Policy': '/privacy-policy',\n",
       " 'Accept': '#',\n",
       " '': '/',\n",
       " 'Firstbase Start™Launch, grow, and manage your company': '/start',\n",
       " 'Firstbase Raise™Companies and investors connect to raise capital': '/raise',\n",
       " 'Firstbase Loop™1-click access to growth tools': '/loop',\n",
       " 'Firstbase Mailroom™Get a business address and mailbox': '/mailroom',\n",
       " 'Firstbase Agent™Automated legal compliance': '/agent',\n",
       " 'About UsLearn how we’re different': '/about',\n",
       " 'CareersJoin our growing team!': '/careers',\n",
       " 'Pricing': '/pricing',\n",
       " 'Rewards': '/rewards',\n",
       " 'Partners': '/partners',\n",
       " 'BlogFresh news, stories, and customer success': '/blog',\n",
       " \"Founder's GuideEverything you’d want to know and more\": '/guide',\n",
       " 'Help CenterHelpful questions and answers': 'https://help.firstbase.io/',\n",
       " 'LLC vs. C-CorporationFind out which is right for your business': 'https://onboarding.firstbase.io/start/type/help/llc-or-corp',\n",
       " 'Free Business Name CheckCheck if your business name is available instantly': '/business-name-check',\n",
       " 'Sign in': 'https://app.firstbase.io/auth/login',\n",
       " 'Start my business': 'https://onboarding.firstbase.io/start/',\n",
       " 'Already incorporated?': 'https://app.firstbase.io/auth/login',\n",
       " 'How it works': '/start',\n",
       " 'Learn more': '/every-firstbase-start',\n",
       " 'Explore Firstbase Loop™': '/loop',\n",
       " 'One application for all your needs.No more re-entering your company data again. We securely transfer all your required onboarding information to each selected partner.': None,\n",
       " 'Integrations and rewards built for growth.Grow your business with our partner integrations and get curated rewards, including cash incentives and credits.\\xa0\\xa0': None,\n",
       " 'Save time with automated onboarding.Apply for any service your business needs and get onboarded across all of our partners in just a few minutes.': None,\n",
       " 'See all rewards': '/rewards',\n",
       " 'How Mailroom™ works': '/mailroom',\n",
       " 'See pricing': '/pricing',\n",
       " 'How Agent™ works': '/agent',\n",
       " 'Register for Raise™ Beta launch': 'https://tv2yc0y40ik.typeform.com/to/QXkqVGNv',\n",
       " 'Read more success stories': '/blog',\n",
       " 'Firstbase Start™': '/start',\n",
       " 'Firstbase Raise™': '/raise',\n",
       " 'Firstbase Loop™': '/loop',\n",
       " 'Firstbase Mailroom™': '/mailroom',\n",
       " 'Firstbase Agent™': '/agent',\n",
       " 'Incorporation API': '/api',\n",
       " 'About Us': '/about',\n",
       " 'Careers': '/careers',\n",
       " 'Blog': '/blog',\n",
       " \"Founder's Guide\": '/guide',\n",
       " 'Free Business Name Check': '/business-name-check',\n",
       " 'Name Check Widget': '/business-name-check-partners',\n",
       " 'LLC vs. C-Corp': 'https://onboarding.firstbase.io/start/type/help/llc-or-corp',\n",
       " 'Help Center': 'https://help.firstbase.io/',\n",
       " 'Contact Us': 'https://help.firstbase.io/hc/en-us/requests/new',\n",
       " 'Search': 'https://www.firstbase.io/search',\n",
       " 'Terms of Use': '/terms',\n",
       " 'Twitter': 'https://twitter.com/tryfirstbase',\n",
       " 'LinkedIn': 'https://www.linkedin.com/company/firstbase-io',\n",
       " 'Instagram': 'https://www.instagram.com/firstbase.io/',\n",
       " 'YouTube': 'https://www.youtube.com/c/Firstbase'}"
      ]
     },
     "execution_count": 74,
     "metadata": {},
     "output_type": "execute_result"
    }
   ],
   "source": [
    "text_link"
   ]
  },
  {
   "cell_type": "code",
   "execution_count": 78,
   "id": "4373ad9b",
   "metadata": {},
   "outputs": [],
   "source": [
    "p_s = list(map(lambda x: x.text,soup.find_all('p')))"
   ]
  },
  {
   "cell_type": "code",
   "execution_count": 81,
   "id": "ed572162",
   "metadata": {},
   "outputs": [
    {
     "name": "stdout",
     "output_type": "stream",
     "text": [
      "By using this website, you agree to the storing of cookies on your device to enhance site navigation, analyze site usage, and assist in our marketing efforts. View our Privacy Policy for more information. \n",
      "\n",
      "The simplest way for anyone to launch and run a US business. Incorporate your company, access one-click growth tools, stay compliant, and manage everything your business needs — all online, from anywhere. \n",
      "\n",
      "No paperwork or legal headaches. Our online platform automates the entire company formation process with compliance and 24/7 global customer support.  \n",
      "\n",
      "Choose an LLC or Corporation and the registration state for your business. We'll guide you through which is best for your business if you don't know. \n",
      "\n",
      "Don't wait on the IRS. We'll give you a bank account faster without needing an EIN. We're also authorized by the Internal Revenue Service (IRS) to offer expedited EIN services if needed. \n",
      "\n",
      "Our integration with Carta allows you to create a cap table just one click after incorporation. We will prepare your legal documents, file your paperwork, and create all the essential post-incorporation documents. \n",
      "\n",
      "Apply for banking, payment processing, payroll, accounting, and more, in one click with Firstbase Loop™. \n",
      "\n",
      "$200,000+ in exclusive deals and rewards. Plus, free tax & legal consultations, webinars, and resources to help your business grow. \n",
      "\n",
      "\"Excited to be a part of Firstbase’s journey as they democratize access to starting companies by making it accessible to everyone.\" \n",
      "\n",
      "\"Deciding to launch your own startup is hard enough. Firstbase takes what is often a big headache of incorporation for founders and simplifies the process into an efficient, personalized one stop shop.\" \n",
      "\n",
      "\"We’re thrilled to support Firstbase’s mission and believe they will have a massive impact on new businesses being started around the world.” \n",
      "\n",
      "\"Firstbase is tackling a big problem involving multiple government bureaucracies and this kind of relentless focus on the details is the only way to make launching a business truly seamless.\" \n",
      "\n",
      "Get a professional business address and virtual mailbox to instantly manage all your mailing needs - online, from any device.  \n",
      "\n",
      "Never miss a deadline with our nationwide Registered Agent service and dashboard that automates compliance reminders, notices, annual filings, and more. \n",
      "\n",
      "Firstbase Raise™ will launch to a limited group of pre-registered founders. 500 founders will be able to join our beta on a first come, first serve basis. \n",
      "\n",
      "I used @tryfirstbase for my biz. Went super-smooth. Highly recommend it. \n",
      "\n",
      "Thank you for getting the company set up super fast. I think it happened efficiently. The team is there to email if you have questions too. The dashboard accurately displays what is completed and what to expect. \n",
      "\n",
      "Incredible Service. This was a fast, easy, hassle-free experience, I won't say it matched my expectations, NO, It exceeded my expectations and amazed me. They're the best of the best. So happy that I chose Firstbase and confident I'll make another round for another venture. \n",
      "\n",
      "Wow, @tryfirstbase is really fantastic. Set up the corp, EIN, registered agent, bank account through/via them and 1.5 months later I'm way more organized than I ever was. \n",
      "\n",
      "Quick and simple LLC formation. Was done in a few days with minimal paperwork. \n",
      "\n",
      "Great service! The process is extremely easy! \n",
      "\n",
      "I hope Firstbase will review this. I am very much satisfied with the service. I had some issues earlier with my application but they resolved them within a day. :D I would recommend their service and appreciate their hard work to make this world a better place for business. :D Cheers. \n",
      "\n",
      "Create a C Corp in US through @tryfirstbase, I did the same and there are enough partners to help you through the fin and legal side of things. \n",
      "\n",
      "Easy to found a startup business via Firstbase. Smooth communication. \n",
      "\n",
      "Starting a company should be a celebration, not a nightmare. \n",
      "\n",
      "Our flat and transparent pricing includes everything your business needs.‍ \n",
      "\n",
      "Get helpful, real human answers from our dedicated support teams wherever you are.‍ \n",
      "\n",
      "If you’re not satisfied for any reason, you’ll get a full refund, minus state and third-party fees, within 60 days of purchase. \n",
      "\n",
      "We’ve helped thousands of companies launch and grow in the US. Their stories continue to inspire us to help push the startup economy forward. \n",
      "\n",
      "Start, grow, and manage your business. We're with you each step of the way.  \n",
      "\n"
     ]
    }
   ],
   "source": [
    "for p in p_s:\n",
    "    print(p, '\\n')"
   ]
  },
  {
   "cell_type": "code",
   "execution_count": null,
   "id": "e15c4c06",
   "metadata": {},
   "outputs": [],
   "source": []
  }
 ],
 "metadata": {
  "kernelspec": {
   "display_name": "Python 3 (ipykernel)",
   "language": "python",
   "name": "python3"
  },
  "language_info": {
   "codemirror_mode": {
    "name": "ipython",
    "version": 3
   },
   "file_extension": ".py",
   "mimetype": "text/x-python",
   "name": "python",
   "nbconvert_exporter": "python",
   "pygments_lexer": "ipython3",
   "version": "3.9.12"
  }
 },
 "nbformat": 4,
 "nbformat_minor": 5
}
